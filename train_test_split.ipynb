{
 "cells": [
  {
   "cell_type": "code",
   "execution_count": 1,
   "metadata": {},
   "outputs": [],
   "source": [
    "import os\n",
    "import torch\n",
    "from torch.utils.data import DataLoader\n",
    "import albumentations as A\n",
    "from albumentations.pytorch.transforms import ToTensorV2\n",
    "\n",
    "from dataset import DFUDataset\n",
    "from loss import DiceLoss, BCEWithLogitsLoss, IOU\n",
    "from optimiser import SGD, Adam\n",
    "from model import UNet, DeepLabV3_MobileNet_V3_Large\n",
    "from readFiles import ReadFiles\n",
    "from training import Train\n",
    "\n",
    "import matplotlib as mpl\n",
    "import matplotlib.pyplot as plt\n",
    "import numpy as np\n",
    "import pandas as pd"
   ]
  },
  {
   "cell_type": "code",
   "execution_count": 3,
   "metadata": {},
   "outputs": [],
   "source": [
    "import os\n",
    "\n",
    "def ReadFiles(directory):\n",
    "    for root, dirs, files in os.walk(directory):\n",
    "        files_ = sorted([f'{directory}/{file}' for file in files], key=str)\n",
    "        return files_"
   ]
  },
  {
   "cell_type": "code",
   "execution_count": 5,
   "metadata": {},
   "outputs": [],
   "source": [
    "train_path = './dfuc2022/train'\n",
    "train_files = ReadFiles(os.path.join(train_path, 'images'))\n",
    "train_masks = ReadFiles(os.path.join(train_path, 'masks'))"
   ]
  },
  {
   "cell_type": "code",
   "execution_count": 8,
   "metadata": {},
   "outputs": [],
   "source": [
    "val_path = './dfuc2022/val'\n",
    "val_files = ReadFiles(os.path.join(val_path, 'images'))\n",
    "val_masks = ReadFiles(os.path.join(val_path, 'masks'))"
   ]
  },
  {
   "cell_type": "code",
   "execution_count": 10,
   "metadata": {},
   "outputs": [],
   "source": [
    "all_files = train_files + val_files\n",
    "all_masks = train_masks + val_masks"
   ]
  },
  {
   "cell_type": "code",
   "execution_count": 14,
   "metadata": {},
   "outputs": [
    {
     "data": {
      "text/plain": [
       "'./dfuc2022/train/images/100002.jpg'"
      ]
     },
     "execution_count": 14,
     "metadata": {},
     "output_type": "execute_result"
    }
   ],
   "source": [
    "data = [all_files, all_masks]"
   ]
  },
  {
   "cell_type": "code",
   "execution_count": 20,
   "metadata": {},
   "outputs": [
    {
     "name": "stdout",
     "output_type": "stream",
     "text": [
      "./dfuc2022/val/images/101991.jpg\n",
      "./dfuc2022/val/masks/101991.png\n"
     ]
    }
   ],
   "source": [
    "print(data[0][1999])\n",
    "print(data[1][1999])"
   ]
  },
  {
   "cell_type": "code",
   "execution_count": 103,
   "metadata": {},
   "outputs": [],
   "source": [
    "from sklearn.model_selection import train_test_split\n",
    "X_train, X_test, y_train, y_test = train_test_split(\n",
    "                data[0], data[1], test_size=0.2, random_state=42)"
   ]
  },
  {
   "cell_type": "code",
   "execution_count": 104,
   "metadata": {},
   "outputs": [
    {
     "data": {
      "text/plain": [
       "['./dfuc2022/train/images/101190.jpg',\n",
       " './dfuc2022/train/images/100291.jpg',\n",
       " './dfuc2022/train/images/101006.jpg',\n",
       " './dfuc2022/train/images/100851.jpg',\n",
       " './dfuc2022/train/images/100515.jpg']"
      ]
     },
     "execution_count": 104,
     "metadata": {},
     "output_type": "execute_result"
    }
   ],
   "source": [
    "X_train[0:5]"
   ]
  },
  {
   "cell_type": "code",
   "execution_count": 105,
   "metadata": {},
   "outputs": [
    {
     "data": {
      "text/plain": [
       "['./dfuc2022/train/masks/101190.png',\n",
       " './dfuc2022/train/masks/100291.png',\n",
       " './dfuc2022/train/masks/101006.png',\n",
       " './dfuc2022/train/masks/100851.png',\n",
       " './dfuc2022/train/masks/100515.png']"
      ]
     },
     "execution_count": 105,
     "metadata": {},
     "output_type": "execute_result"
    }
   ],
   "source": [
    "y_train[0:5]"
   ]
  },
  {
   "cell_type": "code",
   "execution_count": 106,
   "metadata": {},
   "outputs": [
    {
     "data": {
      "text/plain": [
       "['./dfuc2022/val/images/101330.jpg', './dfuc2022/train/images/100435.jpg']"
      ]
     },
     "execution_count": 106,
     "metadata": {},
     "output_type": "execute_result"
    }
   ],
   "source": [
    "X_test[0:2]"
   ]
  },
  {
   "cell_type": "code",
   "execution_count": 107,
   "metadata": {},
   "outputs": [
    {
     "data": {
      "text/plain": [
       "['./dfuc2022/val/masks/101330.png', './dfuc2022/train/masks/100435.png']"
      ]
     },
     "execution_count": 107,
     "metadata": {},
     "output_type": "execute_result"
    }
   ],
   "source": [
    "y_test[0:2]"
   ]
  },
  {
   "cell_type": "code",
   "execution_count": null,
   "metadata": {},
   "outputs": [],
   "source": []
  }
 ],
 "metadata": {
  "kernelspec": {
   "display_name": "Deep",
   "language": "python",
   "name": "python3"
  },
  "language_info": {
   "codemirror_mode": {
    "name": "ipython",
    "version": 3
   },
   "file_extension": ".py",
   "mimetype": "text/x-python",
   "name": "python",
   "nbconvert_exporter": "python",
   "pygments_lexer": "ipython3",
   "version": "3.9.16"
  },
  "orig_nbformat": 4
 },
 "nbformat": 4,
 "nbformat_minor": 2
}
